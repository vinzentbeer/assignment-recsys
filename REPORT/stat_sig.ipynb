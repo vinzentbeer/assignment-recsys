{
 "cells": [
  {
   "cell_type": "code",
   "execution_count": 2,
   "metadata": {},
   "outputs": [],
   "source": [
    "import pandas as pd\n",
    "import seaborn as sns\n",
    "import matplotlib.pyplot as plt\n",
    "from scipy import stats"
   ]
  },
  {
   "cell_type": "markdown",
   "metadata": {},
   "source": [
    "## Code taken from experiments:"
   ]
  },
  {
   "cell_type": "code",
   "execution_count": 3,
   "metadata": {},
   "outputs": [],
   "source": [
    "# Load lastfm data\n",
    "baseline = pd.read_csv('../results/lastfm/agent_topk=10-12-1/baseline_avg.csv') # PGPR\n",
    "LIRopt = pd.read_csv('../results/lastfm/agent_topk=10-12-1/LIRopt_moving_alpha_avg.csv') # R-PGPR\n",
    "SEPopt = pd.read_csv('../results/lastfm/agent_topk=10-12-1/SEPopt_moving_alpha_avg.csv') # P-PGPR \n",
    "ETDopt = pd.read_csv('../results/lastfm/agent_topk=10-12-1/ETDopt_moving_alpha_avg.csv') # D-PGPR\n",
    "ETD_SEP_opt = pd.read_csv('../results/lastfm/agent_topk=10-12-1/ETD_SEP_opt_moving_alpha_avg.csv') # DP-PGPR\n",
    "SEP_LIR_opt = pd.read_csv('../results/lastfm/agent_topk=10-12-1/SEP_LIR_opt_moving_alpha_avg.csv') # PR-PGPR\n",
    "ETD_LIR_opt = pd.read_csv('../results/lastfm/agent_topk=10-12-1/ETD_LIR_opt_moving_alpha_avg.csv') # DR-PGPR\n",
    "ETD_SEP_LIR_opt = pd.read_csv('../results/lastfm/agent_topk=10-12-1/ETD_SEP_LIR_opt_moving_alpha_avg.csv') # DPR-PGPR\n",
    "\n",
    "# Loas ml1m data\n",
    "baseline_ml1m = pd.read_csv('../results/ml1m/agent_topk=10-12-1/baseline_avg.csv') # PGPR\n",
    "LIRopt_ml1m = pd.read_csv('../results/ml1m/agent_topk=10-12-1/LIRopt_moving_alpha_avg.csv') # R-PGPR\n",
    "SEPopt_ml1m = pd.read_csv('../results/ml1m/agent_topk=10-12-1/SEPopt_moving_alpha_avg.csv') # P-PGPR\n",
    "ETDopt_ml1m = pd.read_csv('../results/ml1m/agent_topk=10-12-1/ETDopt_moving_alpha_avg.csv') # D-PGPR\n",
    "ETD_SEP_opt_ml1m = pd.read_csv('../results/ml1m/agent_topk=10-12-1/ETD_SEP_opt_moving_alpha_avg.csv') # DP-PGPR\n",
    "SEP_LIR_opt_ml1m = pd.read_csv('../results/ml1m/agent_topk=10-12-1/SEP_LIR_opt_moving_alpha_avg.csv') # PR-PGPR\n",
    "ETD_LIR_opt_ml1m = pd.read_csv('../results/ml1m/agent_topk=10-12-1/ETD_LIR_opt_moving_alpha_avg.csv') # DR-PGPR\n",
    "ETD_SEP_LIR_opt_ml1m = pd.read_csv('../results/ml1m/agent_topk=10-12-1/ETD_SEP_LIR_opt_moving_alpha_avg.csv') # DPR-PGPR\n",
    "\n"
   ]
  },
  {
   "cell_type": "code",
   "execution_count": null,
   "metadata": {},
   "outputs": [
    {
     "name": "stdout",
     "output_type": "stream",
     "text": [
      "0.005345676872654257\n"
     ]
    },
    {
     "data": {
      "text/plain": [
       "True"
      ]
     },
     "execution_count": 24,
     "metadata": {},
     "output_type": "execute_result"
    }
   ],
   "source": [
    "alpha_values = [0.1, 0.2, 0.3, 0.4, 0.5]\n",
    "metrics = ['ndcg', 'LIR', 'SEP', 'ETD']\n",
    "group = 'Overall'\n",
    "\n",
    "# Combined data\n",
    "combined_df_lastfm = pd.concat([baseline, LIRopt, SEPopt, ETDopt, ETD_SEP_opt, SEP_LIR_opt, ETD_LIR_opt, ETD_SEP_LIR_opt])\n",
    "combined_df_ml1m = pd.concat([baseline_ml1m, LIRopt_ml1m, SEPopt_ml1m, ETDopt_ml1m, ETD_SEP_opt_ml1m, SEP_LIR_opt_ml1m, ETD_LIR_opt_ml1m, ETD_SEP_LIR_opt_ml1m])\n",
    "\n",
    "def compare_to_baseline(combined_df):\n",
    "    # Filter by alpha and group by Overall and metric ndcg\n",
    "    filtered_df = combined_df[\n",
    "        (combined_df['alpha'].isin(alpha_values)) & \n",
    "        (combined_df['metric'].isin(metrics)) &\n",
    "        (combined_df['group'] == group)\n",
    "    ]\n",
    "\n",
    "    baseline_df = filtered_df[filtered_df['opt'] == 'baseline']\n",
    "    optimization_df = filtered_df[filtered_df['opt'] != 'baseline']\n",
    "\n",
    "\n",
    "    merged_df = optimization_df.merge(\n",
    "        baseline_df,\n",
    "        on=['alpha', 'metric', 'group'],\n",
    "        suffixes=('_opt', '_baseline')\n",
    "    )\n",
    "\n",
    "    merged_df = merged_df.sort_values(by=['metric', 'alpha'])\n",
    "    merged_df['opt_opt'] = merged_df['opt_opt'].str.replace('LIRopt', 'R-PGPR')\n",
    "    merged_df['opt_opt'] = merged_df['opt_opt'].str.replace('SEPopt', 'P-PGPR')\n",
    "    merged_df['opt_opt'] = merged_df['opt_opt'].str.replace('ETDopt', 'D-PGPR')\n",
    "    \n",
    "    return merged_df\n",
    "\n",
    "def get_pvalue(merged_df, metric, opt):\n",
    "    opt_df = merged_df[(merged_df['metric'] == metric)]\n",
    "    opt_df = opt_df[(opt_df['opt_opt'] == opt)]\n",
    "    opt_df = opt_df.loc[:, ['data_opt', 'data_baseline']]\n",
    "    (statistic, pvalue) = stats.kruskal(opt_df['data_opt'], opt_df['data_baseline'])\n",
    "    return pvalue\n",
    "\n",
    "def significance(pvalue):\n",
    "    return pvalue<0.05\n",
    "\n",
    "merged_df_lastfm = compare_to_baseline(combined_df_lastfm)\n",
    "merged_df_ml1m = compare_to_baseline(combined_df_ml1m)\n",
    "\n",
    "pvalue = get_pvalue(merged_df_lastfm, 'LIR', 'P-PGPR')\n",
    "print(pvalue)\n",
    "significance(pvalue)\n",
    "\n"
   ]
  },
  {
   "cell_type": "code",
   "execution_count": null,
   "metadata": {},
   "outputs": [],
   "source": []
  }
 ],
 "metadata": {
  "kernelspec": {
   "display_name": ".venv",
   "language": "python",
   "name": "python3"
  },
  "language_info": {
   "codemirror_mode": {
    "name": "ipython",
    "version": 3
   },
   "file_extension": ".py",
   "mimetype": "text/x-python",
   "name": "python",
   "nbconvert_exporter": "python",
   "pygments_lexer": "ipython3",
   "version": "3.7.1"
  }
 },
 "nbformat": 4,
 "nbformat_minor": 2
}
