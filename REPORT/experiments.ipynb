{
 "cells": [
  {
   "cell_type": "code",
   "execution_count": 118,
   "metadata": {},
   "outputs": [],
   "source": [
    "import pandas as pd\n",
    "import seaborn as sns\n",
    "import matplotlib.pyplot as plt\n",
    "from scipy import stats"
   ]
  },
  {
   "cell_type": "markdown",
   "metadata": {},
   "source": [
    "## Analysis - Data Preprocessing"
   ]
  },
  {
   "cell_type": "code",
   "execution_count": 119,
   "metadata": {},
   "outputs": [],
   "source": [
    "# Load the data\n",
    "\n",
    "# ML1M DATA\n",
    "ml1m_movies = pd.read_csv('../datasets/ml1m/movies.dat', sep='::', header=None, engine='python', encoding='latin1', names=['product_id', 'title', 'genres'])\n",
    "ml1m_ratings = pd.read_csv('../datasets/ml1m/ratings.dat', sep='::', header=None, engine='python', encoding='latin1', names=['user_id', 'product_id', 'rating', 'timestamp'])\n",
    "ml1m_users = pd.read_csv('../datasets/ml1m/users.dat', sep='::', header=None, engine='python', encoding='latin1', names=['user_id', 'gender', 'age', 'occupation', 'zip'])\n",
    "\n",
    "# LASTFM DATA\n",
    "lastfm_tracks = pd.read_csv('../datasets/lastfm/tracks.txt', sep=',', engine='python', encoding='latin1', names=['product_id', 'track_name', 'artist_id'])\n",
    "lastfm_ratings = pd.read_csv('../datasets/lastfm/ratings.dat', sep=',', engine='python', encoding='latin1', names=['user_id', 'artist_id', 'album_id', 'product_id', 'timestamp'])\n",
    "lastfm_users = pd.read_csv('../datasets/lastfm/users.dat', sep=',', engine='python', encoding='latin1')"
   ]
  },
  {
   "cell_type": "markdown",
   "metadata": {},
   "source": [
    "### User-Product Information\n",
    "#### Values According to the paper"
   ]
  },
  {
   "cell_type": "code",
   "execution_count": 120,
   "metadata": {},
   "outputs": [],
   "source": [
    "# ML1M\n",
    "ml1m_user_paper = 6040\n",
    "ml1m_prduct_paper = 3226\n",
    "ml1m_interactions_paper = 1000209\n",
    "\n",
    "# LASTFM\n",
    "lastfm_user_paper = 15773\n",
    "lastfm_product_paper = 47981\n",
    "lastfm_interactions_paper = 3955598"
   ]
  },
  {
   "cell_type": "code",
   "execution_count": 121,
   "metadata": {},
   "outputs": [
    {
     "name": "stdout",
     "output_type": "stream",
     "text": [
      "\t\t| ML1M\t   | LASTFM\n",
      "-----------------------------------------\n",
      "Users\t\t| 6040\t   | 15773\n",
      "Products\t| 3226\t   | 47981\n",
      "Interactions\t| 1000209  | 3955598\n"
     ]
    }
   ],
   "source": [
    "print('\\t\\t| ML1M\\t   | LASTFM')\n",
    "print('-----------------------------------------')\n",
    "print('Users\\t\\t| {}\\t   | {}'.format(ml1m_user_paper, lastfm_user_paper))\n",
    "print('Products\\t| {}\\t   | {}'.format(ml1m_prduct_paper, lastfm_product_paper))\n",
    "print('Interactions\\t| {}  | {}'.format(ml1m_interactions_paper, lastfm_interactions_paper))"
   ]
  },
  {
   "cell_type": "markdown",
   "metadata": {},
   "source": [
    "#### Before preprocessing"
   ]
  },
  {
   "cell_type": "code",
   "execution_count": 122,
   "metadata": {},
   "outputs": [],
   "source": [
    "# ML1M\n",
    "# User count\n",
    "ml1m_user_count = ml1m_users['user_id'].nunique()\n",
    "\n",
    "# Movie/Product count\n",
    "ml1m_movie_count = ml1m_movies['product_id'].nunique()\n",
    "\n",
    "# Interaction count\n",
    "ml1m_interaction_count = ml1m_ratings.shape[0]"
   ]
  },
  {
   "cell_type": "code",
   "execution_count": 123,
   "metadata": {},
   "outputs": [],
   "source": [
    "# LASTFM\n",
    "# User count\n",
    "lastfm_user_count = lastfm_users['user_id'].nunique()\n",
    "\n",
    "# Track/Product count\n",
    "lastfm_track_count = lastfm_tracks['product_id'].nunique()\n",
    "\n",
    "# Interaction count\n",
    "lastfm_interaction_count = lastfm_ratings.shape[0]"
   ]
  },
  {
   "cell_type": "code",
   "execution_count": 124,
   "metadata": {},
   "outputs": [
    {
     "name": "stdout",
     "output_type": "stream",
     "text": [
      "\t\t| ML1M\t  | LASTFM\n",
      "-----------------------------------------\n",
      "Users\t\t| 6040\t  | 15773\n",
      "Products\t| 3883\t  | 47982\n",
      "Interactions\t| 1000161 | 21946833\n"
     ]
    }
   ],
   "source": [
    "print('\\t\\t| ML1M\\t  | LASTFM')\n",
    "print('-----------------------------------------')\n",
    "print('Users\\t\\t| {}\\t  | {}'.format(ml1m_user_count, lastfm_user_count))\n",
    "print('Products\\t| {}\\t  | {}'.format(ml1m_movie_count, lastfm_track_count))\n",
    "print('Interactions\\t| {} | {}'.format(ml1m_interaction_count, lastfm_interaction_count))"
   ]
  },
  {
   "cell_type": "markdown",
   "metadata": {},
   "source": [
    "#### After preprocessing"
   ]
  },
  {
   "cell_type": "code",
   "execution_count": 125,
   "metadata": {},
   "outputs": [],
   "source": [
    "def preprocessing_input(users, products, interactions):\n",
    "\n",
    "    users = preprocess_users(users)\n",
    "\n",
    "    (interactions_final, users_final, products_final) = preprocess_interactions(interactions, users, products)\n",
    "\n",
    "    return (interactions_final, users_final, products_final)\n",
    "\n",
    "def preprocess_interactions(interactions, users_final, products):\n",
    "    # Drop users who have less than 1 interaction\n",
    "    user_interactions = 1\n",
    "    \n",
    "    # Drop users with less than N interactions\n",
    "    interaction_counts = interactions['user_id'].value_counts()\n",
    "    valid_users = interaction_counts[interaction_counts >= user_interactions].index\n",
    "    interactions_copy = interactions[interactions['user_id'].isin(valid_users)]\n",
    "\n",
    "    # # Drop items that have less than 20 interactions\n",
    "    item_interactions = 200\n",
    "    item_counts = interactions_copy['product_id'].value_counts()\n",
    "    valid_items = item_counts[item_counts >= item_interactions].index\n",
    "    interactions_copy = interactions_copy[interactions_copy['product_id'].isin(valid_items)]\n",
    "\n",
    "    # # Update products to only include valid items\n",
    "    products_final = products[products['product_id'].isin(valid_items)]\n",
    "\n",
    "    return (interactions_copy, users_final, products_final)\n",
    "\n",
    "def preprocess_users(users):\n",
    "    # Remove users who:\n",
    "    # - has not age or gender\n",
    "    # - age is a negative number\n",
    "\n",
    "    # Deep copy users\n",
    "    users_copy = users.copy()\n",
    "\n",
    "    # Drop users with no age or gender\n",
    "    users_copy = users_copy.dropna(subset=['age', 'gender'])\n",
    "\n",
    "    # Drop users with negative age\n",
    "    users_copy = users_copy[users_copy['age'] >= 0]\n",
    "\n",
    "    return users_copy"
   ]
  },
  {
   "cell_type": "code",
   "execution_count": 126,
   "metadata": {},
   "outputs": [],
   "source": [
    "# ML1M\n",
    "(ml1m_interactions_preprocess, ml1m_users_preprocess, ml1m_products_preprocess) = preprocessing_input(ml1m_users, ml1m_movies, ml1m_ratings)\n",
    "\n",
    "# User count\n",
    "ml1m_user_count_preprocess = ml1m_users_preprocess['user_id'].nunique()\n",
    "\n",
    "# Movie/Product count\n",
    "ml1m_movie_count_preprocess = ml1m_products_preprocess['product_id'].nunique()\n",
    "\n",
    "# Interaction count\n",
    "ml1m_interaction_count_preprocess = ml1m_interactions_preprocess.shape[0]\n"
   ]
  },
  {
   "cell_type": "code",
   "execution_count": 127,
   "metadata": {},
   "outputs": [],
   "source": [
    "# LASTFM\n",
    "(lastfm_interactions_preprocess, lastfm_users_preprocess, lastfm_products_preprocess) = preprocessing_input(lastfm_users, lastfm_tracks, lastfm_ratings)\n",
    "\n",
    "# User count\n",
    "lastfm_user_count_preprocess = lastfm_users_preprocess['user_id'].nunique()\n",
    "\n",
    "# Track/Product count\n",
    "lastfm_track_count_preprocess = lastfm_products_preprocess['product_id'].nunique()\n",
    "\n",
    "# Interaction count\n",
    "lastfm_interaction_count_preprocess = lastfm_interactions_preprocess.shape[0]"
   ]
  },
  {
   "cell_type": "code",
   "execution_count": 128,
   "metadata": {},
   "outputs": [
    {
     "name": "stdout",
     "output_type": "stream",
     "text": [
      "\t\t| ML1M\t  | LASTFM\n",
      "-----------------------------------------\n",
      "Users\t\t| 6040\t  | 12699\n",
      "Products\t| 1426\t  | 3483\n",
      "Interactions\t| 855685  | 15410369\n"
     ]
    }
   ],
   "source": [
    "print('\\t\\t| ML1M\\t  | LASTFM')\n",
    "print('-----------------------------------------')\n",
    "print('Users\\t\\t| {}\\t  | {}'.format(ml1m_user_count_preprocess, lastfm_user_count_preprocess))\n",
    "print('Products\\t| {}\\t  | {}'.format(ml1m_movie_count_preprocess, lastfm_track_count_preprocess))\n",
    "print('Interactions\\t| {}  | {}'.format(ml1m_interaction_count_preprocess, lastfm_interaction_count_preprocess))"
   ]
  },
  {
   "cell_type": "code",
   "execution_count": 129,
   "metadata": {},
   "outputs": [
    {
     "name": "stdout",
     "output_type": "stream",
     "text": [
      "ML1M\n",
      "\t\t| Paper   | No Preprocessing  | Preprocessing (according to paper)\n",
      "-----------------------------------------------------------\n",
      "Users\t\t| 6040\t  | 6040\t  | 6040\n",
      "Products\t| 3226\t  | 3883\t  | 1426\n",
      "Interactions\t| 1000209 | 1000161\t  | 855685\n"
     ]
    }
   ],
   "source": [
    "print('ML1M')\n",
    "print('\\t\\t| Paper   | No Preprocessing  | Preprocessing (according to paper)')\n",
    "print('-----------------------------------------------------------')\n",
    "print('Users\\t\\t| {}\\t  | {}\\t  | {}'.format(ml1m_user_paper, ml1m_user_count, ml1m_user_count_preprocess))\n",
    "print('Products\\t| {}\\t  | {}\\t  | {}'.format(ml1m_prduct_paper, ml1m_movie_count, ml1m_movie_count_preprocess))\n",
    "print('Interactions\\t| {} | {}\\t  | {}'.format(ml1m_interactions_paper, ml1m_interaction_count, ml1m_interaction_count_preprocess))"
   ]
  },
  {
   "cell_type": "code",
   "execution_count": 130,
   "metadata": {},
   "outputs": [
    {
     "name": "stdout",
     "output_type": "stream",
     "text": [
      "LASTFM\n",
      "\t\t| Paper   | No Preprocessing  | Preprocessing (according to paper)\n",
      "-----------------------------------------------------------\n",
      "Users \t\t| 15773\t  | 15773\t  | 12699\n",
      "Products\t| 47981\t  | 47982\t  | 3483\n",
      "Interactions\t| 3955598 | 21946833\t  | 15410369\n"
     ]
    }
   ],
   "source": [
    "print('LASTFM')\n",
    "print('\\t\\t| Paper   | No Preprocessing  | Preprocessing (according to paper)')\n",
    "print('-----------------------------------------------------------')\n",
    "print('Users \\t\\t| {}\\t  | {}\\t  | {}'.format(lastfm_user_paper, lastfm_user_count, lastfm_user_count_preprocess))\n",
    "print('Products\\t| {}\\t  | {}\\t  | {}'.format(lastfm_product_paper, lastfm_track_count, lastfm_track_count_preprocess))\n",
    "print('Interactions\\t| {} | {}\\t  | {}'.format(lastfm_interactions_paper, lastfm_interaction_count, lastfm_interaction_count_preprocess))"
   ]
  },
  {
   "cell_type": "markdown",
   "metadata": {},
   "source": [
    "## Results Recommender System"
   ]
  },
  {
   "cell_type": "code",
   "execution_count": 131,
   "metadata": {},
   "outputs": [],
   "source": [
    "# Load lastfm data\n",
    "baseline_topk10 = pd.read_csv('../results/lastfm/agent_topk=10-12-1/baseline_avg.csv') # PGPR\n",
    "LIRopt_topk10 = pd.read_csv('../results/lastfm/agent_topk=10-12-1/LIRopt_moving_alpha_avg.csv') # R-PGPR\n",
    "SEPopt_topk10 = pd.read_csv('../results/lastfm/agent_topk=10-12-1/SEPopt_moving_alpha_avg.csv') # P-PGPR \n",
    "ETDopt_topk10 = pd.read_csv('../results/lastfm/agent_topk=10-12-1/ETDopt_moving_alpha_avg.csv') # D-PGPR\n",
    "ETD_SEP_opt_topk10 = pd.read_csv('../results/lastfm/agent_topk=10-12-1/ETD_SEP_opt_moving_alpha_avg.csv') # DP-PGPR\n",
    "SEP_LIR_opt_topk10 = pd.read_csv('../results/lastfm/agent_topk=10-12-1/SEP_LIR_opt_moving_alpha_avg.csv') # PR-PGPR\n",
    "ETD_LIR_opt_topk10 = pd.read_csv('../results/lastfm/agent_topk=10-12-1/ETD_LIR_opt_moving_alpha_avg.csv') # DR-PGPR\n",
    "ETD_SEP_LIR_opt_topk10 = pd.read_csv('../results/lastfm/agent_topk=10-12-1/ETD_SEP_LIR_opt_moving_alpha_avg.csv') # DPR-PGPR"
   ]
  },
  {
   "cell_type": "code",
   "execution_count": 132,
   "metadata": {},
   "outputs": [],
   "source": [
    "# Loas ml1m data\n",
    "baseline_ml1m_topk10 = pd.read_csv('../results/ml1m/agent_topk=10-12-1/baseline_avg.csv') # PGPR\n",
    "LIRopt_ml1m_topk10 = pd.read_csv('../results/ml1m/agent_topk=10-12-1/LIRopt_moving_alpha_avg.csv') # R-PGPR\n",
    "SEPopt_ml1m_topk10 = pd.read_csv('../results/ml1m/agent_topk=10-12-1/SEPopt_moving_alpha_avg.csv') # P-PGPR\n",
    "ETDopt_ml1m_topk10 = pd.read_csv('../results/ml1m/agent_topk=10-12-1/ETDopt_moving_alpha_avg.csv') # D-PGPR\n",
    "ETD_SEP_opt_ml1m_topk10 = pd.read_csv('../results/ml1m/agent_topk=10-12-1/ETD_SEP_opt_moving_alpha_avg.csv') # DP-PGPR\n",
    "SEP_LIR_opt_ml1m_topk10 = pd.read_csv('../results/ml1m/agent_topk=10-12-1/SEP_LIR_opt_moving_alpha_avg.csv') # PR-PGPR\n",
    "ETD_LIR_opt_ml1m_topk10 = pd.read_csv('../results/ml1m/agent_topk=10-12-1/ETD_LIR_opt_moving_alpha_avg.csv') # DR-PGPR\n",
    "ETD_SEP_LIR_opt_ml1m_topk10 = pd.read_csv('../results/ml1m/agent_topk=10-12-1/ETD_SEP_LIR_opt_moving_alpha_avg.csv') # DPR-PGPR"
   ]
  },
  {
   "cell_type": "code",
   "execution_count": 133,
   "metadata": {},
   "outputs": [],
   "source": [
    "# Load lastfm data\n",
    "baseline = pd.read_csv('../results/lastfm/agent_topk=25-50-1/baseline_avg.csv') # PGPR\n",
    "LIRopt = pd.read_csv('../results/lastfm/agent_topk=25-50-1/LIRopt_moving_alpha_avg.csv') # R-PGPR\n",
    "SEPopt = pd.read_csv('../results/lastfm/agent_topk=25-50-1/SEPopt_moving_alpha_avg.csv') # P-PGPR \n",
    "ETDopt = pd.read_csv('../results/lastfm/agent_topk=25-50-1/ETDopt_moving_alpha_avg.csv') # D-PGPR\n",
    "ETD_SEP_opt = pd.read_csv('../results/lastfm/agent_topk=25-50-1/ETD_SEP_opt_moving_alpha_avg.csv') # DP-PGPR\n",
    "SEP_LIR_opt = pd.read_csv('../results/lastfm/agent_topk=25-50-1/SEP_LIR_opt_moving_alpha_avg.csv') # PR-PGPR\n",
    "ETD_LIR_opt = pd.read_csv('../results/lastfm/agent_topk=25-50-1/ETD_LIR_opt_moving_alpha_avg.csv') # DR-PGPR\n",
    "ETD_SEP_LIR_opt = pd.read_csv('../results/lastfm/agent_topk=25-50-1/ETD_SEP_LIR_opt_moving_alpha_avg.csv') # DPR-PGPR"
   ]
  },
  {
   "cell_type": "code",
   "execution_count": 134,
   "metadata": {},
   "outputs": [],
   "source": [
    "# Loas ml1m data\n",
    "baseline_ml1m = pd.read_csv('../results/ml1m/agent_topk=25-50-1/baseline_avg.csv') # PGPR\n",
    "LIRopt_ml1m = pd.read_csv('../results/ml1m/agent_topk=25-50-1/LIRopt_moving_alpha_avg.csv') # R-PGPR\n",
    "SEPopt_ml1m = pd.read_csv('../results/ml1m/agent_topk=25-50-1/SEPopt_moving_alpha_avg.csv') # P-PGPR\n",
    "ETDopt_ml1m = pd.read_csv('../results/ml1m/agent_topk=25-50-1/ETDopt_moving_alpha_avg.csv') # D-PGPR\n",
    "ETD_SEP_opt_ml1m = pd.read_csv('../results/ml1m/agent_topk=25-50-1/ETD_SEP_opt_moving_alpha_avg.csv') # DP-PGPR\n",
    "SEP_LIR_opt_ml1m = pd.read_csv('../results/ml1m/agent_topk=25-50-1/SEP_LIR_opt_moving_alpha_avg.csv') # PR-PGPR\n",
    "ETD_LIR_opt_ml1m = pd.read_csv('../results/ml1m/agent_topk=25-50-1/ETD_LIR_opt_moving_alpha_avg.csv') # DR-PGPR\n",
    "ETD_SEP_LIR_opt_ml1m = pd.read_csv('../results/ml1m/agent_topk=25-50-1/ETD_SEP_LIR_opt_moving_alpha_avg.csv') # DPR-PGPR"
   ]
  },
  {
   "cell_type": "markdown",
   "metadata": {},
   "source": [
    "### Figure 2: Gain / loss of our re-ranking approaches, namely R-PGPR (recency), P-PGPR (popularity), and D-PGPR (di- versity), with respect to the original model in terms of recommendation utility (NDCG) and explanation quality (LIR, SEP, and ETD). "
   ]
  },
  {
   "cell_type": "code",
   "execution_count": 135,
   "metadata": {},
   "outputs": [],
   "source": [
    "alpha_values = [0.1, 0.2, 0.3, 0.4, 0.5]\n",
    "metrics = ['ndcg', 'LIR', 'SEP', 'ETD']\n",
    "group = 'Overall'\n",
    "\n",
    "# Combined data\n",
    "combined_df_lastfm = pd.concat([baseline, LIRopt, SEPopt, ETDopt])\n",
    "combined_df_ml1m = pd.concat([baseline_ml1m, LIRopt_ml1m, SEPopt_ml1m, ETDopt_ml1m])\n",
    "\n",
    "def compare_to_baseline(combined_df):\n",
    "    # Filter by alpha and group by Overall and metric ndcg\n",
    "    filtered_df = combined_df[\n",
    "        (combined_df['alpha'].isin(alpha_values)) & \n",
    "        (combined_df['metric'].isin(metrics)) &\n",
    "        (combined_df['group'] == group)\n",
    "    ]\n",
    "\n",
    "    baseline_df = filtered_df[filtered_df['opt'] == 'baseline']\n",
    "    optimization_df = filtered_df[filtered_df['opt'] != 'baseline']\n",
    "\n",
    "\n",
    "    merged_df = optimization_df.merge(\n",
    "        baseline_df,\n",
    "        on=['alpha', 'metric', 'group'],\n",
    "        suffixes=('_opt', '_baseline')\n",
    "    )\n",
    "\n",
    "    merged_df['percentage_change'] = (\n",
    "        (merged_df['data_opt'] - merged_df['data_baseline']) / merged_df['data_baseline'] * 100\n",
    "    )\n",
    "\n",
    "    merged_df = merged_df.sort_values(by=['metric', 'alpha'])\n",
    "    merged_df['opt_opt'] = merged_df['opt_opt'].str.replace('LIRopt', 'R-PGPR')\n",
    "    merged_df['opt_opt'] = merged_df['opt_opt'].str.replace('SEPopt', 'P-PGPR')\n",
    "    merged_df['opt_opt'] = merged_df['opt_opt'].str.replace('ETDopt', 'D-PGPR')\n",
    "\n",
    "    return merged_df\n",
    "\n",
    "merged_df_lastfm = compare_to_baseline(combined_df_lastfm)\n",
    "merged_df_ml1m = compare_to_baseline(combined_df_ml1m)"
   ]
  },
  {
   "cell_type": "code",
   "execution_count": 136,
   "metadata": {},
   "outputs": [
    {
     "name": "stderr",
     "output_type": "stream",
     "text": [
      "c:\\Users\\diana\\Desktop\\Uni\\Master\\Experiment Design for Data Science\\ExD2\\Repo\\assignment-recsys\\.venv\\lib\\site-packages\\ipykernel_launcher.py:61: UserWarning: This figure includes Axes that are not compatible with tight_layout, so results might be incorrect.\n"
     ]
    },
    {
     "data": {
      "image/png": "[encoded data removed]",
      "text/plain": [
       "<Figure size 700x1000 with 9 Axes>"
      ]
     },
     "metadata": {},
     "output_type": "display_data"
    }
   ],
   "source": [
    "fig, axes = plt.subplots(nrows=4, ncols=2, figsize=(7, 10))\n",
    "\n",
    "min_val = min(merged_df_lastfm['percentage_change'].min(), merged_df_ml1m['percentage_change'].min())\n",
    "max_val = max(merged_df_lastfm['percentage_change'].max(), merged_df_ml1m['percentage_change'].max())\n",
    "\n",
    "custom_cmap = sns.diverging_palette(10, 133, as_cmap=True)\n",
    "\n",
    "for i, metric in enumerate(metrics):\n",
    "    # Plot for LASTFM\n",
    "    metric_data_lastfm = merged_df_lastfm[merged_df_lastfm['metric'] == metric]\n",
    "    heatmap_data_lastfm = metric_data_lastfm.pivot(\n",
    "        index='opt_opt',\n",
    "        columns='alpha',\n",
    "        values='percentage_change'\n",
    "    )\n",
    "    heatmap_data_lastfm = heatmap_data_lastfm.iloc[::-1]\n",
    "    sns.heatmap(\n",
    "        heatmap_data_lastfm,\n",
    "        annot=True,\n",
    "        fmt=\".1f\",\n",
    "        cmap=custom_cmap,\n",
    "        center=0,\n",
    "        vmin=min_val,\n",
    "        vmax=max_val,\n",
    "        ax=axes[i, 1],\n",
    "        cbar=False\n",
    "    )\n",
    "    axes[i, 1].set_title(f\"{metric.upper()} (LASTFM)\")\n",
    "    axes[i, 1].set_xlabel(\"Alpha\")\n",
    "    axes[i, 1].set_ylabel(\"\")\n",
    "    axes[i, 1].set_yticklabels(axes[i, 1].get_yticklabels(), rotation=0)\n",
    "\n",
    "    # Plot for ML1M\n",
    "    metric_data_ml1m = merged_df_ml1m[merged_df_ml1m['metric'] == metric]\n",
    "    heatmap_data_ml1m = metric_data_ml1m.pivot(\n",
    "        index='opt_opt',\n",
    "        columns='alpha',\n",
    "        values='percentage_change'\n",
    "    )\n",
    "    heatmap_data_ml1m = heatmap_data_ml1m.iloc[::-1]\n",
    "    sns.heatmap(\n",
    "        heatmap_data_ml1m,\n",
    "        annot=True,\n",
    "        fmt=\".1f\",\n",
    "        cmap=custom_cmap,\n",
    "        center=0,\n",
    "        vmin=min_val,\n",
    "        vmax=max_val,\n",
    "        ax=axes[i, 0],\n",
    "        cbar=False\n",
    "    )\n",
    "    axes[i, 0].set_title(f\"{metric.upper()} (ML1M)\")\n",
    "    axes[i, 0].set_xlabel(\"Alpha\")\n",
    "    axes[i, 0].set_ylabel(\"\")\n",
    "    axes[i, 0].set_yticklabels(axes[i, 0].get_yticklabels(), rotation=0)\n",
    "\n",
    "# Colorbar at the bottom\n",
    "cbar_ax = fig.add_axes([0.15, 0.08, 0.7, 0.02])\n",
    "fig.colorbar(axes[0, 1].collections[0], cbar_ax, orientation='horizontal', label='Percentage Increase (%)')\n",
    "\n",
    "plt.tight_layout(rect=[0, 0.1, 1, 1])\n",
    "plt.show()"
   ]
  },
  {
   "cell_type": "markdown",
   "metadata": {},
   "source": [
    "### Table 3: Recommendation utility (NDCG)."
   ]
  },
  {
   "cell_type": "code",
   "execution_count": 137,
   "metadata": {},
   "outputs": [],
   "source": [
    "# Average NDCG\n",
    "def get_average_ndcg(\n",
    "    dataset,\n",
    "    LIRopt, SEPopt, ETDopt, ETD_SEP_opt, SEP_LIR_opt, ETD_LIR_opt, ETD_SEP_LIR_opt,\n",
    "    group='Overall',\n",
    "    metric='ndcg',\n",
    "    alpha_values=[0.1],\n",
    "    ):\n",
    "\n",
    "    combined_df = pd.concat([LIRopt, SEPopt, ETDopt, ETD_SEP_opt, SEP_LIR_opt, ETD_LIR_opt, ETD_SEP_LIR_opt])\n",
    "\n",
    "    filtered_df = combined_df[\n",
    "    (combined_df['alpha'].isin(alpha_values)) & \n",
    "    (combined_df['group'] == group) & \n",
    "    (combined_df['metric'] == metric)\n",
    "    ]\n",
    "\n",
    "    grouped_df = filtered_df.groupby(['opt'])['data'].mean().reset_index()\n",
    "\n",
    "    # Rename data for the name of the dataset\n",
    "    grouped_df = grouped_df.rename(columns={'data': f'{dataset}'})\n",
    "    grouped_df = grouped_df.rename(columns={'opt': 'Model'})\n",
    "    \n",
    "    # Rename Model values\n",
    "    rename_dict = {\n",
    "        'LIRopt': 'R-PGPR',\n",
    "        'SEPopt': 'P-PGPR',\n",
    "        'ETDopt': 'D-PGPR',\n",
    "        'ETD_SEP_opt': 'DP-PGPR',\n",
    "        'SEP_LIR_opt': 'PR-PGPR',\n",
    "        'ETD_LIR_opt': 'DR-PGPR',\n",
    "        'ETD_SEP_LIR_opt': 'DPR-PGPR'\n",
    "    }\n",
    "    grouped_df['Model'] = grouped_df['Model'].replace(rename_dict)\n",
    "\n",
    "    # Reorder the DataFrame\n",
    "    order = ['R-PGPR', 'P-PGPR', 'D-PGPR', 'DP-PGPR', 'PR-PGPR', 'DR-PGPR', 'DPR-PGPR']\n",
    "    grouped_df = grouped_df.set_index('Model').loc[order].reset_index()\n",
    "    \n",
    "\n",
    "    return grouped_df"
   ]
  },
  {
   "cell_type": "code",
   "execution_count": 138,
   "metadata": {},
   "outputs": [
    {
     "data": {
      "text/html": [
       "<div>\n",
       "<style scoped>\n",
       "    .dataframe tbody tr th:only-of-type {\n",
       "        vertical-align: middle;\n",
       "    }\n",
       "\n",
       "    .dataframe tbody tr th {\n",
       "        vertical-align: top;\n",
       "    }\n",
       "\n",
       "    .dataframe thead th {\n",
       "        text-align: right;\n",
       "    }\n",
       "</style>\n",
       "<table border=\"1\" class=\"dataframe\">\n",
       "  <thead>\n",
       "    <tr style=\"text-align: right;\">\n",
       "      <th></th>\n",
       "      <th>Model</th>\n",
       "      <th>M1LM</th>\n",
       "      <th>LASTFM</th>\n",
       "    </tr>\n",
       "  </thead>\n",
       "  <tbody>\n",
       "    <tr>\n",
       "      <th>0</th>\n",
       "      <td>R-PGPR</td>\n",
       "      <td>0.322131</td>\n",
       "      <td>0.121233</td>\n",
       "    </tr>\n",
       "    <tr>\n",
       "      <th>1</th>\n",
       "      <td>P-PGPR</td>\n",
       "      <td>0.318890</td>\n",
       "      <td>0.119234</td>\n",
       "    </tr>\n",
       "    <tr>\n",
       "      <th>2</th>\n",
       "      <td>D-PGPR</td>\n",
       "      <td>0.317457</td>\n",
       "      <td>0.115204</td>\n",
       "    </tr>\n",
       "    <tr>\n",
       "      <th>3</th>\n",
       "      <td>DP-PGPR</td>\n",
       "      <td>0.310853</td>\n",
       "      <td>0.112290</td>\n",
       "    </tr>\n",
       "    <tr>\n",
       "      <th>4</th>\n",
       "      <td>PR-PGPR</td>\n",
       "      <td>0.321971</td>\n",
       "      <td>0.120343</td>\n",
       "    </tr>\n",
       "    <tr>\n",
       "      <th>5</th>\n",
       "      <td>DR-PGPR</td>\n",
       "      <td>0.315207</td>\n",
       "      <td>0.114369</td>\n",
       "    </tr>\n",
       "    <tr>\n",
       "      <th>6</th>\n",
       "      <td>DPR-PGPR</td>\n",
       "      <td>0.314363</td>\n",
       "      <td>0.113171</td>\n",
       "    </tr>\n",
       "  </tbody>\n",
       "</table>\n",
       "</div>"
      ],
      "text/plain": [
       "      Model      M1LM    LASTFM\n",
       "0    R-PGPR  0.322131  0.121233\n",
       "1    P-PGPR  0.318890  0.119234\n",
       "2    D-PGPR  0.317457  0.115204\n",
       "3   DP-PGPR  0.310853  0.112290\n",
       "4   PR-PGPR  0.321971  0.120343\n",
       "5   DR-PGPR  0.315207  0.114369\n",
       "6  DPR-PGPR  0.314363  0.113171"
      ]
     },
     "execution_count": 138,
     "metadata": {},
     "output_type": "execute_result"
    }
   ],
   "source": [
    "ndcg_lastfm = get_average_ndcg(\"LASTFM\", LIRopt, SEPopt, ETDopt, ETD_SEP_opt, SEP_LIR_opt, ETD_LIR_opt, ETD_SEP_LIR_opt)\n",
    "ndcg_m1lm = get_average_ndcg(\"M1LM\",LIRopt_ml1m, SEPopt_ml1m, ETDopt_ml1m, ETD_SEP_opt_ml1m, SEP_LIR_opt_ml1m, ETD_LIR_opt_ml1m, ETD_SEP_LIR_opt_ml1m)\n",
    "\n",
    "# Merge the two dataframes by model\n",
    "ndcg_combined = pd.merge(ndcg_m1lm, ndcg_lastfm, on='Model')\n",
    "ndcg_combined"
   ]
  },
  {
   "cell_type": "markdown",
   "metadata": {},
   "source": [
    "### Table 4: Explanation quality (EQ, LIR, EP, ETD)."
   ]
  },
  {
   "cell_type": "code",
   "execution_count": 139,
   "metadata": {},
   "outputs": [],
   "source": [
    "# Average NDCG\n",
    "def get_explanation_quality(\n",
    "    dataset,\n",
    "    baseline, LIRopt, SEPopt, ETDopt, ETD_SEP_opt, SEP_LIR_opt, ETD_LIR_opt, ETD_SEP_LIR_opt,\n",
    "    group='Overall',\n",
    "    metrics=['LIR', 'SEP', 'ETD'],\n",
    "    alpha_values=[0.1],\n",
    "    ):\n",
    "\n",
    "    combined_df = pd.concat([baseline, LIRopt, SEPopt, ETDopt, ETD_SEP_opt, SEP_LIR_opt, ETD_LIR_opt, ETD_SEP_LIR_opt])\n",
    "\n",
    "    filtered_df = combined_df[\n",
    "    (combined_df['alpha'].isin(alpha_values)) & \n",
    "    (combined_df['group'] == group) & \n",
    "    (combined_df['metric'].isin(metrics))\n",
    "    ]\n",
    "\n",
    "    grouped_df = filtered_df.groupby(['opt', 'metric'])['data'].mean().reset_index()\n",
    "\n",
    "    grouped_df = grouped_df.pivot(index='opt', columns='metric', values='data').reset_index()\n",
    "    grouped_df['EQ'] = grouped_df['LIR'] + grouped_df['SEP'] + grouped_df['ETD']\n",
    "\n",
    "    grouped_df = grouped_df[['opt', 'EQ', 'LIR', 'SEP', 'ETD']]\n",
    "\n",
    "    # Rename data for the name of the dataset\n",
    "    grouped_df = grouped_df.rename(columns={'data': f'{dataset}'})\n",
    "    grouped_df = grouped_df.rename(columns={'opt': 'Model'})\n",
    "    \n",
    "    # Rename Model values\n",
    "    rename_dict = {\n",
    "        'baseline': 'PGPR',\n",
    "        'LIRopt': 'R-PGPR',\n",
    "        'SEPopt': 'P-PGPR',\n",
    "        'ETDopt': 'D-PGPR',\n",
    "        'ETD_SEP_opt': 'DP-PGPR',\n",
    "        'SEP_LIR_opt': 'PR-PGPR',\n",
    "        'ETD_LIR_opt': 'DR-PGPR',\n",
    "        'ETD_SEP_LIR_opt': 'DPR-PGPR'\n",
    "    }\n",
    "    grouped_df['Model'] = grouped_df['Model'].replace(rename_dict)\n",
    "\n",
    "    # Reorder the DataFrame\n",
    "    order = ['PGPR' ,'R-PGPR', 'P-PGPR', 'D-PGPR', 'DP-PGPR', 'PR-PGPR', 'DR-PGPR', 'DPR-PGPR']\n",
    "    grouped_df = grouped_df.set_index('Model').loc[order].reset_index()\n",
    "    \n",
    "\n",
    "    return grouped_df"
   ]
  },
  {
   "cell_type": "code",
   "execution_count": 140,
   "metadata": {},
   "outputs": [
    {
     "data": {
      "text/html": [
       "<div>\n",
       "<style scoped>\n",
       "    .dataframe tbody tr th:only-of-type {\n",
       "        vertical-align: middle;\n",
       "    }\n",
       "\n",
       "    .dataframe tbody tr th {\n",
       "        vertical-align: top;\n",
       "    }\n",
       "\n",
       "    .dataframe thead th {\n",
       "        text-align: right;\n",
       "    }\n",
       "</style>\n",
       "<table border=\"1\" class=\"dataframe\">\n",
       "  <thead>\n",
       "    <tr style=\"text-align: right;\">\n",
       "      <th>metric</th>\n",
       "      <th>Model</th>\n",
       "      <th>EQ</th>\n",
       "      <th>LIR</th>\n",
       "      <th>SEP</th>\n",
       "      <th>ETD</th>\n",
       "    </tr>\n",
       "  </thead>\n",
       "  <tbody>\n",
       "    <tr>\n",
       "      <th>0</th>\n",
       "      <td>PGPR</td>\n",
       "      <td>0.775346</td>\n",
       "      <td>0.163167</td>\n",
       "      <td>0.459663</td>\n",
       "      <td>0.152517</td>\n",
       "    </tr>\n",
       "    <tr>\n",
       "      <th>1</th>\n",
       "      <td>R-PGPR</td>\n",
       "      <td>1.014880</td>\n",
       "      <td>0.340059</td>\n",
       "      <td>0.529424</td>\n",
       "      <td>0.145397</td>\n",
       "    </tr>\n",
       "    <tr>\n",
       "      <th>2</th>\n",
       "      <td>P-PGPR</td>\n",
       "      <td>1.171121</td>\n",
       "      <td>0.156897</td>\n",
       "      <td>0.815995</td>\n",
       "      <td>0.198228</td>\n",
       "    </tr>\n",
       "    <tr>\n",
       "      <th>3</th>\n",
       "      <td>D-PGPR</td>\n",
       "      <td>1.017195</td>\n",
       "      <td>0.146056</td>\n",
       "      <td>0.597496</td>\n",
       "      <td>0.273642</td>\n",
       "    </tr>\n",
       "    <tr>\n",
       "      <th>4</th>\n",
       "      <td>DP-PGPR</td>\n",
       "      <td>1.237174</td>\n",
       "      <td>0.153429</td>\n",
       "      <td>0.795782</td>\n",
       "      <td>0.287964</td>\n",
       "    </tr>\n",
       "    <tr>\n",
       "      <th>5</th>\n",
       "      <td>PR-PGPR</td>\n",
       "      <td>1.256217</td>\n",
       "      <td>0.334700</td>\n",
       "      <td>0.744746</td>\n",
       "      <td>0.176772</td>\n",
       "    </tr>\n",
       "    <tr>\n",
       "      <th>6</th>\n",
       "      <td>DR-PGPR</td>\n",
       "      <td>1.196408</td>\n",
       "      <td>0.330208</td>\n",
       "      <td>0.582408</td>\n",
       "      <td>0.283791</td>\n",
       "    </tr>\n",
       "    <tr>\n",
       "      <th>7</th>\n",
       "      <td>DPR-PGPR</td>\n",
       "      <td>1.312922</td>\n",
       "      <td>0.325221</td>\n",
       "      <td>0.740118</td>\n",
       "      <td>0.247583</td>\n",
       "    </tr>\n",
       "  </tbody>\n",
       "</table>\n",
       "</div>"
      ],
      "text/plain": [
       "metric     Model        EQ       LIR       SEP       ETD\n",
       "0           PGPR  0.775346  0.163167  0.459663  0.152517\n",
       "1         R-PGPR  1.014880  0.340059  0.529424  0.145397\n",
       "2         P-PGPR  1.171121  0.156897  0.815995  0.198228\n",
       "3         D-PGPR  1.017195  0.146056  0.597496  0.273642\n",
       "4        DP-PGPR  1.237174  0.153429  0.795782  0.287964\n",
       "5        PR-PGPR  1.256217  0.334700  0.744746  0.176772\n",
       "6        DR-PGPR  1.196408  0.330208  0.582408  0.283791\n",
       "7       DPR-PGPR  1.312922  0.325221  0.740118  0.247583"
      ]
     },
     "execution_count": 140,
     "metadata": {},
     "output_type": "execute_result"
    }
   ],
   "source": [
    "exp_quality_ml1m = get_explanation_quality(\"ML1M\", baseline_ml1m, LIRopt_ml1m, SEPopt_ml1m, ETDopt_ml1m, ETD_SEP_opt_ml1m, SEP_LIR_opt_ml1m, ETD_LIR_opt_ml1m, ETD_SEP_LIR_opt_ml1m)\n",
    "exp_quality_ml1m"
   ]
  },
  {
   "cell_type": "code",
   "execution_count": 141,
   "metadata": {},
   "outputs": [
    {
     "data": {
      "text/html": [
       "<div>\n",
       "<style scoped>\n",
       "    .dataframe tbody tr th:only-of-type {\n",
       "        vertical-align: middle;\n",
       "    }\n",
       "\n",
       "    .dataframe tbody tr th {\n",
       "        vertical-align: top;\n",
       "    }\n",
       "\n",
       "    .dataframe thead th {\n",
       "        text-align: right;\n",
       "    }\n",
       "</style>\n",
       "<table border=\"1\" class=\"dataframe\">\n",
       "  <thead>\n",
       "    <tr style=\"text-align: right;\">\n",
       "      <th>metric</th>\n",
       "      <th>Model</th>\n",
       "      <th>EQ</th>\n",
       "      <th>LIR</th>\n",
       "      <th>SEP</th>\n",
       "      <th>ETD</th>\n",
       "    </tr>\n",
       "  </thead>\n",
       "  <tbody>\n",
       "    <tr>\n",
       "      <th>0</th>\n",
       "      <td>PGPR</td>\n",
       "      <td>1.004958</td>\n",
       "      <td>0.084775</td>\n",
       "      <td>0.789873</td>\n",
       "      <td>0.130310</td>\n",
       "    </tr>\n",
       "    <tr>\n",
       "      <th>1</th>\n",
       "      <td>R-PGPR</td>\n",
       "      <td>1.030475</td>\n",
       "      <td>0.155598</td>\n",
       "      <td>0.742230</td>\n",
       "      <td>0.132647</td>\n",
       "    </tr>\n",
       "    <tr>\n",
       "      <th>2</th>\n",
       "      <td>P-PGPR</td>\n",
       "      <td>1.113027</td>\n",
       "      <td>0.087198</td>\n",
       "      <td>0.864391</td>\n",
       "      <td>0.161438</td>\n",
       "    </tr>\n",
       "    <tr>\n",
       "      <th>3</th>\n",
       "      <td>D-PGPR</td>\n",
       "      <td>1.004156</td>\n",
       "      <td>0.083440</td>\n",
       "      <td>0.742242</td>\n",
       "      <td>0.178474</td>\n",
       "    </tr>\n",
       "    <tr>\n",
       "      <th>4</th>\n",
       "      <td>DP-PGPR</td>\n",
       "      <td>1.116022</td>\n",
       "      <td>0.084650</td>\n",
       "      <td>0.849809</td>\n",
       "      <td>0.181563</td>\n",
       "    </tr>\n",
       "    <tr>\n",
       "      <th>5</th>\n",
       "      <td>PR-PGPR</td>\n",
       "      <td>1.149251</td>\n",
       "      <td>0.154560</td>\n",
       "      <td>0.843748</td>\n",
       "      <td>0.150943</td>\n",
       "    </tr>\n",
       "    <tr>\n",
       "      <th>6</th>\n",
       "      <td>DR-PGPR</td>\n",
       "      <td>1.080297</td>\n",
       "      <td>0.153703</td>\n",
       "      <td>0.745882</td>\n",
       "      <td>0.180713</td>\n",
       "    </tr>\n",
       "    <tr>\n",
       "      <th>7</th>\n",
       "      <td>DPR-PGPR</td>\n",
       "      <td>1.138516</td>\n",
       "      <td>0.152578</td>\n",
       "      <td>0.830031</td>\n",
       "      <td>0.155906</td>\n",
       "    </tr>\n",
       "  </tbody>\n",
       "</table>\n",
       "</div>"
      ],
      "text/plain": [
       "metric     Model        EQ       LIR       SEP       ETD\n",
       "0           PGPR  1.004958  0.084775  0.789873  0.130310\n",
       "1         R-PGPR  1.030475  0.155598  0.742230  0.132647\n",
       "2         P-PGPR  1.113027  0.087198  0.864391  0.161438\n",
       "3         D-PGPR  1.004156  0.083440  0.742242  0.178474\n",
       "4        DP-PGPR  1.116022  0.084650  0.849809  0.181563\n",
       "5        PR-PGPR  1.149251  0.154560  0.843748  0.150943\n",
       "6        DR-PGPR  1.080297  0.153703  0.745882  0.180713\n",
       "7       DPR-PGPR  1.138516  0.152578  0.830031  0.155906"
      ]
     },
     "execution_count": 141,
     "metadata": {},
     "output_type": "execute_result"
    }
   ],
   "source": [
    "exp_quality_lastfm = get_explanation_quality(\"LASTFM\", baseline, LIRopt, SEPopt, ETDopt, ETD_SEP_opt, SEP_LIR_opt, ETD_LIR_opt, ETD_SEP_LIR_opt)\n",
    "exp_quality_lastfm"
   ]
  },
  {
   "cell_type": "markdown",
   "metadata": {},
   "source": [
    "### Table 5: The difference between male and female user groups in terms of average recommendation utility (NDCG) and explanation quality (LIR, SEP and ETD)."
   ]
  },
  {
   "cell_type": "code",
   "execution_count": 142,
   "metadata": {},
   "outputs": [],
   "source": [
    "exp_quality_ml1m_male = get_explanation_quality(\"ML1M\", baseline_ml1m, LIRopt_ml1m, SEPopt_ml1m, ETDopt_ml1m, ETD_SEP_opt_ml1m, SEP_LIR_opt_ml1m, ETD_LIR_opt_ml1m, ETD_SEP_LIR_opt_ml1m, group=\"Male\")\n",
    "exp_quality_ml1m_female = get_explanation_quality(\"ML1M\", baseline_ml1m, LIRopt_ml1m, SEPopt_ml1m, ETDopt_ml1m, ETD_SEP_opt_ml1m, SEP_LIR_opt_ml1m, ETD_LIR_opt_ml1m, ETD_SEP_LIR_opt_ml1m, group=\"Female\")\n",
    "#exp_quality_ml1m_diff = exp_quality_ml1m_male - exp_quality_ml1m_female\n"
   ]
  },
  {
   "cell_type": "code",
   "execution_count": 148,
   "metadata": {},
   "outputs": [],
   "source": [
    "\n",
    "\n",
    "def get_metric_gender_delta(\n",
    "    dataset_name,\n",
    "    LIRopt, SEPopt, ETDopt, ETD_SEP_opt, SEP_LIR_opt, ETD_LIR_opt, ETD_SEP_LIR_opt, baseline,\n",
    "    group='Overall',\n",
    "    metrics=['ndcg', 'LIR', 'SEP', 'ETD'],\n",
    "    alpha_values=[0.1, 0.2, 0.3, 0.4, 0.5],\n",
    "    ):\n",
    "\n",
    "    combined_df = pd.concat([LIRopt, SEPopt, ETDopt, ETD_SEP_opt, SEP_LIR_opt, ETD_LIR_opt, ETD_SEP_LIR_opt, baseline])\n",
    "    filtered_df = combined_df[\n",
    "    (combined_df['alpha'].isin(alpha_values)) & \n",
    "    (combined_df['metric'].isin(metrics)) &\n",
    "    (combined_df['group'].isin(['Male', 'Female']))\n",
    "    ]\n",
    "\n",
    "    #group algorithm, metric and group and obtain the mean  \n",
    "    grouped_df = filtered_df.groupby(['opt', 'metric', 'group'])['data'].mean().unstack()\n",
    "\n",
    "    grouped_df['Difference'] = grouped_df['Female'] - grouped_df['Male']\n",
    "\n",
    "    #need to do this\n",
    "    grouped_df = grouped_df[['Difference']].reset_index()\n",
    "    \n",
    "    # set metrics as columns\n",
    "    grouped_df = grouped_df.pivot(index='opt', columns='metric', values='Difference').reset_index()\n",
    "    \n",
    " \n",
    "    grouped_df = grouped_df.rename(columns={'opt': 'Model'})\n",
    "\n",
    "    #model value renaming\n",
    "    rename_dict = {\n",
    "        'LIRopt': 'R-PGPR',\n",
    "        'SEPopt': 'P-PGPR',\n",
    "        'ETDopt': 'D-PGPR',\n",
    "        'ETD_SEP_opt': 'DP-PGPR',\n",
    "        'SEP_LIR_opt': 'PR-PGPR',\n",
    "        'ETD_LIR_opt': 'DR-PGPR',\n",
    "        'ETD_SEP_LIR_opt': 'DPR-PGPR',\n",
    "        'baseline': 'PGPR'\n",
    "    }\n",
    "    grouped_df['Model'] = grouped_df['Model'].replace(rename_dict)\n",
    "    \n",
    "    order = ['PGPR','R-PGPR', 'P-PGPR', 'D-PGPR', 'DP-PGPR', 'PR-PGPR', 'DR-PGPR', 'DPR-PGPR']\n",
    "    grouped_df = grouped_df.set_index('Model').loc[order].reset_index()\n",
    "\n",
    "\n",
    "    # add dataset names and delta sign to columns\n",
    "    grouped_df = grouped_df.rename(columns={'ndcg': f'ΔNDCG {dataset_name}', \n",
    "                                          'LIR': f'ΔLIR {dataset_name}',\n",
    "                                          'SEP': f'ΔSEP {dataset_name}',\n",
    "                                          'ETD': f'ΔETD {dataset_name}'})\n",
    "    return grouped_df"
   ]
  },
  {
   "cell_type": "code",
   "execution_count": 149,
   "metadata": {},
   "outputs": [
    {
     "name": "stdout",
     "output_type": "stream",
     "text": [
      "using topk=10\n",
      "| Model    |   ΔNDCG ML1M |   ΔLIR ML1M |    ΔSEP ML1M |   ΔETD ML1M |   ΔNDCG LASTFM |   ΔLIR LASTFM |   ΔSEP LASTFM |   ΔETD LASTFM |\n",
      "|:---------|-------------:|------------:|-------------:|------------:|---------------:|--------------:|--------------:|--------------:|\n",
      "| PGPR     |  0.000791497 |  -0.0188839 |  0.00167111  | 0.000167398 |    0.0009223   |  -0.00297435  |  -0.000557664 |  -0.00147062  |\n",
      "| R-PGPR   |  0.00543664  |  -0.0262502 | -0.00101022  | 0.00100076  |   -0.00372363  |  -0.00602655  |  -0.00177716  |  -0.00205418  |\n",
      "| P-PGPR   |  0.00521852  |  -0.0109691 | -0.000927277 | 0.000153874 |   -0.00442611  |  -0.00819628  |   0.000816552 |  -0.0027926   |\n",
      "| D-PGPR   |  0.00389741  |  -0.0225218 | -0.00335762  | 0.00167909  |    0.00252701  |  -0.000843328 |  -0.00263538  |   0.000643068 |\n",
      "| DP-PGPR  |  0.00298194  |  -0.0172497 | -0.00132105  | 0.000969093 |    0.0028415   |  -0.00872038  |  -0.00113629  |   0.000586921 |\n",
      "| PR-PGPR  |  0.00902474  |  -0.0252509 |  0.00226777  | 0.00043375  |   -0.0046996   |  -0.00585473  |  -0.000101772 |  -0.00174072  |\n",
      "| DR-PGPR  |  0.00509519  |  -0.0251998 | -0.00304815  | 0.0015742   |    0.00251944  |  -0.00555499  |  -0.00260573  |   0.000956122 |\n",
      "| DPR-PGPR |  0.00313755  |  -0.0239281 | -0.00120678  | 0.000641554 |    0.000902715 |  -0.00544697  |  -0.00143814  |   0.000736993 |\n"
     ]
    }
   ],
   "source": [
    "use_high_topk = False\n",
    "if(use_high_topk):\n",
    "    ml1m_df = get_metric_gender_delta(dataset_name = 'ML1M',\n",
    "                                    LIRopt = LIRopt_ml1m,\n",
    "                                    SEPopt = SEPopt_ml1m,\n",
    "                                    ETDopt = ETDopt_ml1m,\n",
    "                                    ETD_SEP_opt = ETD_SEP_opt_ml1m,\n",
    "                                    SEP_LIR_opt = SEP_LIR_opt_ml1m,\n",
    "                                    ETD_LIR_opt = ETD_LIR_opt_ml1m,\n",
    "                                    ETD_SEP_LIR_opt = ETD_SEP_LIR_opt_ml1m,\n",
    "                                    baseline = baseline_ml1m)\n",
    "\n",
    "    lastfm_df = get_metric_gender_delta(dataset_name = 'LASTFM',\n",
    "                                    LIRopt = LIRopt,\n",
    "                                    SEPopt = SEPopt,\n",
    "                                    ETDopt = ETDopt,\n",
    "                                    ETD_SEP_opt = ETD_SEP_opt,\n",
    "                                    SEP_LIR_opt = SEP_LIR_opt,\n",
    "                                    ETD_LIR_opt = ETD_LIR_opt,\n",
    "                                    ETD_SEP_LIR_opt = ETD_SEP_LIR_opt,\n",
    "                                    baseline=baseline)\n",
    "\n",
    "else:\n",
    "    print(\"using topk=10\")\n",
    "\n",
    "    ml1m_df = get_metric_gender_delta(dataset_name = 'ML1M',\n",
    "                                    LIRopt = LIRopt_ml1m_topk10,\n",
    "                                    SEPopt = SEPopt_ml1m_topk10,\n",
    "                                    ETDopt = ETDopt_ml1m_topk10,\n",
    "                                    ETD_SEP_opt = ETD_SEP_opt_ml1m_topk10,\n",
    "                                    SEP_LIR_opt = SEP_LIR_opt_ml1m_topk10,\n",
    "                                    ETD_LIR_opt = ETD_LIR_opt_ml1m_topk10,\n",
    "                                    ETD_SEP_LIR_opt = ETD_SEP_LIR_opt_ml1m_topk10,\n",
    "                                    baseline = baseline_ml1m_topk10)\n",
    "\n",
    "    lastfm_df = get_metric_gender_delta(dataset_name = 'LASTFM',\n",
    "                                    LIRopt = LIRopt_topk10,\n",
    "                                    SEPopt = SEPopt_topk10,\n",
    "                                    ETDopt = ETDopt_topk10,\n",
    "                                    ETD_SEP_opt = ETD_SEP_opt_topk10,\n",
    "                                    SEP_LIR_opt = SEP_LIR_opt_topk10,\n",
    "                                    ETD_LIR_opt = ETD_LIR_opt_topk10,\n",
    "                                    ETD_SEP_LIR_opt = ETD_SEP_LIR_opt_topk10,\n",
    "                                    baseline=baseline_topk10)\n",
    "\n",
    "#merge to display prettily\n",
    "merged_df = pd.merge(lastfm_df, ml1m_df, on='Model', how='outer')\n",
    "\n",
    "#Reorder the columns since i screwed up the order before\n",
    "order =  ['Model',\n",
    "         'ΔNDCG ML1M', 'ΔLIR ML1M', 'ΔSEP ML1M', 'ΔETD ML1M','ΔNDCG LASTFM', 'ΔLIR LASTFM', 'ΔSEP LASTFM', 'ΔETD LASTFM']\n",
    "merged_df = merged_df[order]\n",
    "\n",
    "\n",
    "from tabulate import tabulate\n",
    "\n",
    "formatted_table = tabulate(merged_df, headers='keys', tablefmt='pipe', showindex=False)\n",
    "print(formatted_table)"
   ]
  },
  {
   "cell_type": "markdown",
   "metadata": {},
   "source": [
    "## Statistical significance between genders"
   ]
  },
  {
   "cell_type": "code",
   "execution_count": 113,
   "metadata": {},
   "outputs": [],
   "source": [
    "def get_gendered_data(\n",
    "    LIRopt, SEPopt, ETDopt, ETD_SEP_opt, SEP_LIR_opt, ETD_LIR_opt, ETD_SEP_LIR_opt, baseline,\n",
    "    metrics=['ndcg', 'LIR', 'SEP', 'ETD'],\n",
    "    alpha_values=[0.1, 0.2, 0.3, 0.4, 0.5],\n",
    "    ):\n",
    "\n",
    "    combined_df = pd.concat([LIRopt, SEPopt, ETDopt, ETD_SEP_opt, SEP_LIR_opt, ETD_LIR_opt, ETD_SEP_LIR_opt, baseline])\n",
    "    filtered_df = combined_df[\n",
    "    (combined_df['alpha'].isin(alpha_values)) & \n",
    "    (combined_df['metric'].isin(metrics)) &\n",
    "    (combined_df['group'].isin(['Male', 'Female']))\n",
    "    ]\n",
    "\n",
    "    \n",
    "    filtered_df = filtered_df.sort_values(by=['metric', 'alpha'])\n",
    "    filtered_df['opt'] = filtered_df['opt'].str.replace('LIRopt', 'R-PGPR')\n",
    "    filtered_df['opt'] = filtered_df['opt'].str.replace('SEPopt', 'P-PGPR')\n",
    "    filtered_df['opt'] = filtered_df['opt'].str.replace('ETDopt', 'D-PGPR')\n",
    "    filtered_df['opt'] = filtered_df['opt'].str.replace('ETD_SEP_LIR_opt', 'DPR-PGPR')\n",
    "    filtered_df['opt'] = filtered_df['opt'].str.replace('ETD_SEP_opt', 'DP-PGPR')\n",
    "    filtered_df['opt'] = filtered_df['opt'].str.replace('ETD_LIR_opt', 'DR-PGPR')\n",
    "    filtered_df['opt'] = filtered_df['opt'].str.replace('SEP_LIR_opt', 'PR-PGPR')\n",
    "\n",
    "    \n",
    "    female_df = filtered_df[(filtered_df['group'] == 'Female')]\n",
    "    male_df = filtered_df[(filtered_df['group'] == 'Male')]\n",
    "    \n",
    "    return female_df, male_df\n",
    "\n",
    "def get_pvalue(df_female, df_male, metric, opt):\n",
    "    opt_female_df = df_female[(df_female['metric'] == metric)]\n",
    "    opt_female_df = opt_female_df[(opt_female_df['opt'] == opt)]\n",
    "    opt_female_df = opt_female_df.loc[:, ['data']]\n",
    "    opt_male_df = df_male[(df_male['metric'] == metric)]\n",
    "    opt_male_df = opt_male_df[(opt_male_df['opt'] == opt)]\n",
    "    opt_male_df = opt_male_df.loc[:, ['data']]\n",
    "    (statistic, pvalue) = stats.kruskal(opt_female_df['data'], opt_male_df['data'])\n",
    "    return pvalue\n",
    "\n",
    "(ml1m_df_f, ml1m_df_m) = get_gendered_data(LIRopt = LIRopt_ml1m,\n",
    "                                 SEPopt = SEPopt_ml1m,\n",
    "                                 ETDopt = ETDopt_ml1m,\n",
    "                                 ETD_SEP_opt = ETD_SEP_opt_ml1m,\n",
    "                                 SEP_LIR_opt = SEP_LIR_opt_ml1m,\n",
    "                                 ETD_LIR_opt = ETD_LIR_opt_ml1m,\n",
    "                                 ETD_SEP_LIR_opt = ETD_SEP_LIR_opt_ml1m,\n",
    "                                 baseline = baseline_ml1m)\n",
    "\n",
    "(lastfm_df_f, lastfm_df_m) = get_gendered_data(LIRopt = LIRopt,\n",
    "                                 SEPopt = SEPopt,\n",
    "                                 ETDopt = ETDopt,\n",
    "                                 ETD_SEP_opt = ETD_SEP_opt,\n",
    "                                 SEP_LIR_opt = SEP_LIR_opt,\n",
    "                                 ETD_LIR_opt = ETD_LIR_opt,\n",
    "                                 ETD_SEP_LIR_opt = ETD_SEP_LIR_opt,\n",
    "                                 baseline=baseline)\n",
    "\n",
    "indexes = ['R-PGPR', 'P-PGPR', 'D-PGPR', 'DP-PGPR', 'PR-PGPR', 'DR-PGPR', 'DPR-PGPR']\n",
    "\n",
    "\n",
    "def create_pvalue_df(df_f, df_m, metrics, indexes):\n",
    "    pvalues_df = pd.DataFrame(columns=metrics, index=indexes)\n",
    "    for metric in metrics:\n",
    "        results = []\n",
    "        for index in indexes:\n",
    "            results.append(get_pvalue(df_f, df_m, metric, index))\n",
    "        pvalues_df[metric] = results\n",
    "    return pvalues_df"
   ]
  },
  {
   "cell_type": "code",
   "execution_count": null,
   "metadata": {},
   "outputs": [
    {
     "name": "stdout",
     "output_type": "stream",
     "text": [
      "LastFM:\n",
      "              ndcg       LIR       SEP       ETD\n",
      "R-PGPR    0.754023  0.009023  0.250592  0.008816\n",
      "P-PGPR    0.601508  0.009023  0.916815  0.601508\n",
      "D-PGPR    0.009023  0.047202  0.916815  0.916815\n",
      "DP-PGPR   0.916815  0.117185  0.754023  0.754023\n",
      "PR-PGPR   0.754023  0.009023  0.601508  0.916815\n",
      "DR-PGPR   0.117185  0.009023  0.250592  0.916815\n",
      "DPR-PGPR  0.916815  0.009023  0.916815  0.754023\n",
      "           ndcg    LIR    SEP    ETD\n",
      "R-PGPR    False   True  False   True\n",
      "P-PGPR    False   True  False  False\n",
      "D-PGPR     True   True  False  False\n",
      "DP-PGPR   False  False  False  False\n",
      "PR-PGPR   False   True  False  False\n",
      "DR-PGPR   False   True  False  False\n",
      "DPR-PGPR  False   True  False  False\n"
     ]
    }
   ],
   "source": [
    "print('LastFM:')\n",
    "pvalue_df_lastfm = create_pvalue_df(lastfm_df_f, lastfm_df_m, metrics, indexes)\n",
    "print(pvalue_df_lastfm)\n",
    "print(pvalue_df_lastfm.applymap(lambda x: x<0.05))"
   ]
  },
  {
   "cell_type": "code",
   "execution_count": null,
   "metadata": {},
   "outputs": [
    {
     "name": "stdout",
     "output_type": "stream",
     "text": [
      "MovieLens\n",
      "              ndcg       LIR       SEP       ETD\n",
      "R-PGPR    0.250592  0.009023  0.347208  0.347208\n",
      "P-PGPR    0.916815  0.117185  0.601508  0.250592\n",
      "D-PGPR    0.250592  0.009023  0.464702  0.916815\n",
      "DP-PGPR   0.347208  0.028280  0.754023  0.754023\n",
      "PR-PGPR   0.916815  0.016294  0.601508  0.754023\n",
      "DR-PGPR   0.754023  0.009023  0.601508  0.916815\n",
      "DPR-PGPR  0.601508  0.009023  0.601508  0.916815\n",
      "           ndcg    LIR    SEP    ETD\n",
      "R-PGPR    False   True  False  False\n",
      "P-PGPR    False  False  False  False\n",
      "D-PGPR    False   True  False  False\n",
      "DP-PGPR   False   True  False  False\n",
      "PR-PGPR   False   True  False  False\n",
      "DR-PGPR   False   True  False  False\n",
      "DPR-PGPR  False   True  False  False\n"
     ]
    }
   ],
   "source": [
    "print('MovieLens:')\n",
    "pvalue_df_ml1m = create_pvalue_df(ml1m_df_f, ml1m_df_m, metrics, indexes)\n",
    "print(pvalue_df_ml1m)\n",
    "print(pvalue_df_ml1m.applymap(lambda x: x<0.05))"
   ]
  },
  {
   "cell_type": "markdown",
   "metadata": {},
   "source": [
    "While we tried to compute our best guess of what they could have meant with \"statistical significance testing\" for table 5 (as in the distribution of values for male and female and different alpha for fixed metric and optimisation priority), we decided to not include this in our report as the differences (probably due to different preprocessing) are too severe."
   ]
  },
  {
   "cell_type": "code",
   "execution_count": 160,
   "metadata": {},
   "outputs": [],
   "source": [
    "def get_difference_avg(df_f, df_m):\n",
    "    df_diff = df_f.drop(columns=['group'])\n",
    "    df_diff = df_diff.sort_values(by=['opt','metric'])\n",
    "    df_m = df_m.sort_values(by=['opt','metric'])\n",
    "    df_diff['data'] = df_diff['data'].values - df_m['data'].values\n",
    "    return df_diff.groupby(['opt', 'metric'])['data'].mean().unstack()"
   ]
  },
  {
   "cell_type": "code",
   "execution_count": 161,
   "metadata": {},
   "outputs": [
    {
     "name": "stdout",
     "output_type": "stream",
     "text": [
      "LastFM:\n",
      "metric         ETD       LIR       SEP      ndcg\n",
      "opt                                             \n",
      "D-PGPR   -0.000518 -0.004115  0.000153  0.005838\n",
      "DP-PGPR  -0.001269 -0.005801  0.000469 -0.000581\n",
      "DPR-PGPR -0.000936 -0.012304 -0.000353 -0.000645\n",
      "DR-PGPR  -0.000820 -0.012580 -0.002251  0.003734\n",
      "P-PGPR   -0.001132 -0.007479 -0.000484 -0.002534\n",
      "PR-PGPR  -0.000382 -0.012518 -0.000957 -0.003093\n",
      "R-PGPR   -0.001400 -0.012808 -0.002032 -0.000703\n",
      "baseline -0.001471 -0.002974 -0.000558  0.000922\n"
     ]
    }
   ],
   "source": [
    "print('LastFM:')\n",
    "print(get_difference_avg(lastfm_df_f, lastfm_df_m))"
   ]
  },
  {
   "cell_type": "code",
   "execution_count": 162,
   "metadata": {},
   "outputs": [
    {
     "name": "stdout",
     "output_type": "stream",
     "text": [
      "MovieLens:\n",
      "metric         ETD       LIR       SEP      ndcg\n",
      "opt                                             \n",
      "D-PGPR    0.000335 -0.016335  0.003755  0.005089\n",
      "DP-PGPR   0.002593 -0.017050  0.000800  0.006629\n",
      "DPR-PGPR -0.000143 -0.028008  0.001906  0.007367\n",
      "DR-PGPR  -0.000683 -0.027897 -0.002666  0.001099\n",
      "P-PGPR   -0.000919 -0.010209 -0.000540  0.000340\n",
      "PR-PGPR   0.000456 -0.027717  0.002253 -0.002199\n",
      "R-PGPR   -0.000817 -0.028189 -0.007524 -0.002680\n",
      "baseline -0.000151 -0.006645  0.000699  0.005592\n"
     ]
    }
   ],
   "source": [
    "print('MovieLens:')\n",
    "print(get_difference_avg(ml1m_df_f, ml1m_df_m))"
   ]
  }
 ],
 "metadata": {
  "kernelspec": {
   "display_name": ".venv",
   "language": "python",
   "name": "python3"
  },
  "language_info": {
   "codemirror_mode": {
    "name": "ipython",
    "version": 3
   },
   "file_extension": ".py",
   "mimetype": "text/x-python",
   "name": "python",
   "nbconvert_exporter": "python",
   "pygments_lexer": "ipython3",
   "version": "3.7.9"
  }
 },
 "nbformat": 4,
 "nbformat_minor": 2
}
